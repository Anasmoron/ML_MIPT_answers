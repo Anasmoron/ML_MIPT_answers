{
  "nbformat": 4,
  "nbformat_minor": 0,
  "metadata": {
    "colab": {
      "provenance": [],
      "toc_visible": true
    },
    "kernelspec": {
      "name": "python3",
      "display_name": "Python 3"
    },
    "language_info": {
      "name": "python"
    }
  },
  "cells": [
    {
      "cell_type": "code",
      "source": [
        "from scipy.optimize import minimize_scalar\n",
        "from math import exp\n",
        "#defining of a function\n",
        "def f(x):\n",
        "  return (25*(x**3))*(1-4*(x**2))* exp(-5*(x**2))\n",
        "\n",
        "#calculating global minimum\n",
        "res = minimize_scalar(f)\n",
        "global_minimum=res.x\n",
        "\n",
        "print(f\" global minimum is : {round(global_minimum,4)}\")\n",
        "\n",
        "#Calculating local minimum\n",
        "res=minimize_scalar(f,bounds=(-0.5,0.1), method='bounded')#range of (-0.5,0.1)was choosen graphically - see explanation further\n",
        "func_local_minimum=f(res.x)\n",
        "print(f\"f(local_minimum) : {round(func_local_minimum,4)}\")\n"
      ],
      "metadata": {
        "colab": {
          "base_uri": "https://localhost:8080/",
          "height": 0
        },
        "id": "eTvRpO5EwsKJ",
        "outputId": "2c0aeb19-ace4-4d6f-bddc-c1d26a60d385"
      },
      "execution_count": 52,
      "outputs": [
        {
          "output_type": "stream",
          "name": "stdout",
          "text": [
            " global minimum is : 0.7945\n",
            "f(local_minimum) : -0.2966\n"
          ]
        }
      ]
    },
    {
      "cell_type": "markdown",
      "source": [
        "To figure out the range of local minimum we can plot our function and look at the graph. The picture depicts 2 minima - 1 local and 1 global. The region of local minimum is approximately between **-0.5** and **0.1**."
      ],
      "metadata": {
        "id": "AvVk1eXZFzkO"
      }
    },
    {
      "cell_type": "code",
      "source": [
        "import matplotlib.pyplot as plt\n",
        "import numpy as np\n",
        "x=[float(s) for s in np.arange(-10.0,10.0,0.1)]\n",
        "y=[f(elem) for elem in x ]\n",
        "plt.plot(x,y, color='blue')"
      ],
      "metadata": {
        "colab": {
          "base_uri": "https://localhost:8080/",
          "height": 448
        },
        "id": "OHN_Olen_45B",
        "outputId": "290f85d3-5946-42e3-ecbf-86d32a1d1b4e"
      },
      "execution_count": 46,
      "outputs": [
        {
          "output_type": "execute_result",
          "data": {
            "text/plain": [
              "[<matplotlib.lines.Line2D at 0x7ed086009bd0>]"
            ]
          },
          "metadata": {},
          "execution_count": 46
        },
        {
          "output_type": "display_data",
          "data": {
            "text/plain": [
              "<Figure size 640x480 with 1 Axes>"
            ],
            "image/png": "[encoded data removed]"
          },
          "metadata": {}
        }
      ]
    },
    {
      "cell_type": "code",
      "source": [
        "# This is another way of finding a global minumum\n",
        "\n",
        "from scipy.optimize import differential_evolution\n",
        "\n",
        "# Perform global optimization\n",
        "res_global = differential_evolution(f, bounds=[(-10,10)])\n",
        "print(f\"global minimum : {round(res_global.x[0],4)}\")"
      ],
      "metadata": {
        "colab": {
          "base_uri": "https://localhost:8080/",
          "height": 0
        },
        "id": "2ldeuCMG4F0i",
        "outputId": "a73197c4-9651-4f4f-b06c-45ccf6f62088"
      },
      "execution_count": 62,
      "outputs": [
        {
          "output_type": "stream",
          "name": "stdout",
          "text": [
            "global minimum : 0.7945\n"
          ]
        },
        {
          "output_type": "stream",
          "name": "stderr",
          "text": [
            "<ipython-input-52-15af35caadfe>:5: DeprecationWarning: Conversion of an array with ndim > 0 to a scalar is deprecated, and will error in future. Ensure you extract a single element from your array before performing this operation. (Deprecated NumPy 1.25.)\n",
            "  return (25*(x**3))*(1-4*(x**2))* exp(-5*(x**2))\n"
          ]
        }
      ]
    }
  ]
}